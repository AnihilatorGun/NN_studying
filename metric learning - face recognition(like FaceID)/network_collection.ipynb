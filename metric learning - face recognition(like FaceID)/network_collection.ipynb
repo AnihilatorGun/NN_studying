{
 "cells": [
  {
   "cell_type": "code",
   "execution_count": 1,
   "metadata": {
    "executionInfo": {
     "elapsed": 5202,
     "status": "ok",
     "timestamp": 1675956045587,
     "user": {
      "displayName": "Nikita Ushakov",
      "userId": "10694674250451986039"
     },
     "user_tz": -180
    },
    "id": "OQPcJpwUAGms"
   },
   "outputs": [],
   "source": [
    "import torch\n",
    "import torchvision\n",
    "from torch.nn import ReLU, Conv2d, BatchNorm2d, Sequential, AdaptiveAvgPool2d, Linear, MaxPool2d, Flatten, CrossEntropyLoss\n",
    "from typing import Tuple, List, Type, Dict, Any\n",
    "from torch.autograd import Variable"
   ]
  },
  {
   "cell_type": "code",
   "execution_count": 4,
   "metadata": {
    "executionInfo": {
     "elapsed": 2,
     "status": "ok",
     "timestamp": 1675854156686,
     "user": {
      "displayName": "Nikita Ushakov",
      "userId": "10694674250451986039"
     },
     "user_tz": -180
    },
    "id": "7BYDwl5wna0d"
   },
   "outputs": [],
   "source": [
    "class SphereEmbedding(torch.nn.Linear):\n",
    "    def __init__(self, in_features, out_features):\n",
    "        super(SphereEmbedding, self).__init__(in_features, out_features, bias = False)\n",
    "\n",
    "    def forward(self, input):\n",
    "        return torch.nn.functional.linear(torch.nn.functional.normalize(input), torch.nn.functional.normalize(self.weight))"
   ]
  },
  {
   "cell_type": "code",
   "execution_count": 18,
   "metadata": {
    "executionInfo": {
     "elapsed": 374,
     "status": "ok",
     "timestamp": 1675856171731,
     "user": {
      "displayName": "Nikita Ushakov",
      "userId": "10694674250451986039"
     },
     "user_tz": -180
    },
    "id": "Wnv9H8Rd8Vji"
   },
   "outputs": [],
   "source": [
    "class Combined_loss(torch.nn.Module):\n",
    "    def __init__(self, MSE_weight, scale=64, margin=0.05):\n",
    "        super(Combined_loss, self).__init__()\n",
    "        self.MSE_weight = MSE_weight\n",
    "        self.scale = scale\n",
    "        self.margin = margin\n",
    "\n",
    "        self.CE = CrossEntropyLoss()\n",
    "\n",
    "    def _MSE(self, anchor_embedding, positive_embedding):\n",
    "        return self.MSE_weight*torch.mean((anchor_embedding - positive_embedding).pow(2))\n",
    "\n",
    "    def _CosFaceLoss(self, cosines, target):\n",
    "        one_hot = torch.zeros_like(cosines)\n",
    "        one_hot.scatter_(1, target.view(1, -1).long(), 1)\n",
    "        logits = self.scale * (cosines - self.margin * one_hot) \n",
    "        loss = self.CE(logits, target)\n",
    "        return loss\n",
    "\n",
    "    def forward(self, anchor_pred, anchor_embedding, positive_pred, positive_embedding,\n",
    "                target):\n",
    "        loss = self._MSE(anchor_embedding, positive_embedding)\n",
    "        loss += self._CosFaceLoss(anchor_pred, target) + self._CosFaceLoss(positive_pred, target)\n",
    "\n",
    "        return loss"
   ]
  },
  {
   "cell_type": "code",
   "execution_count": null,
   "metadata": {
    "id": "Nb_ThCHzJEeO"
   },
   "outputs": [],
   "source": [
    "class CosFace(torch.nn.Module):\n",
    "    def __init__(self, scale=64, margin=0.15):\n",
    "        super(CosFace, self).__init__()\n",
    "        self.scale = scale\n",
    "        self.margin = margin\n",
    "        self.CE = CrossEntropyLoss()\n",
    "\n",
    "    def forward(self, cosines, target):\n",
    "        one_hot = torch.zeros_like(cosines)\n",
    "        one_hot.scatter_(1, target.view(1, -1).long(), 1)\n",
    "        logits = self.scale * (cosines - self.margin * one_hot) \n",
    "        loss = self.CE(logits, target)\n",
    "        return loss"
   ]
  },
  {
   "cell_type": "code",
   "execution_count": 17,
   "metadata": {
    "executionInfo": {
     "elapsed": 321,
     "status": "ok",
     "timestamp": 1675856049761,
     "user": {
      "displayName": "Nikita Ushakov",
      "userId": "10694674250451986039"
     },
     "user_tz": -180
    },
    "id": "qwJGHE9xX-so"
   },
   "outputs": [],
   "source": [
    "class Embedder(torch.nn.Module):\n",
    "    def __init__(self, embedding_size = 128):\n",
    "        super(Embedder, self).__init__()\n",
    "        self.embedding_size = embedding_size\n",
    "        self.make_resnet()\n",
    "\n",
    "    def make_resnet(self):\n",
    "        resnet = torchvision.models.resnet152(weights = torchvision.models.ResNet152_Weights.DEFAULT)\n",
    "        for parameter in resnet.parameters():\n",
    "            parameter.requires_grad_(False)\n",
    "\n",
    "        self.conv1 = resnet.conv1\n",
    "        self.bn1 = resnet.bn1\n",
    "        self.relu = resnet.relu\n",
    "        self.maxpool = resnet.maxpool\n",
    "\n",
    "        self.layer1 = resnet.layer1\n",
    "        self.layer2 = resnet.layer2\n",
    "        self.layer3 = resnet.layer3\n",
    "\n",
    "        self.avgpool = resnet.avgpool\n",
    "        self.fc = Linear(1024, self.embedding_size)\n",
    "\n",
    "        self.layer3[35].conv3.requires_grad_(True)\n",
    "        self.layer3[35].bn3.requires_grad_(True)\n",
    "\n",
    "    def forward(self, x):\n",
    "        x = self.conv1(x)\n",
    "        x = self.bn1(x)\n",
    "        x = self.relu(x)\n",
    "        x = self.maxpool(x)\n",
    "\n",
    "        x = self.layer1(x)\n",
    "        x = self.layer2(x)\n",
    "        x = self.layer3(x)\n",
    "\n",
    "        x = self.avgpool(x)\n",
    "        x = torch.flatten(x, 1)\n",
    "        x = self.fc(x)\n",
    "\n",
    "        return x"
   ]
  },
  {
   "cell_type": "code",
   "execution_count": 19,
   "metadata": {
    "executionInfo": {
     "elapsed": 254,
     "status": "ok",
     "timestamp": 1675856188214,
     "user": {
      "displayName": "Nikita Ushakov",
      "userId": "10694674250451986039"
     },
     "user_tz": -180
    },
    "id": "gm5AGtBBeYs4"
   },
   "outputs": [],
   "source": [
    "class Classificator(torch.nn.Module):\n",
    "    def __init__(self, num_classes,\n",
    "                 embedding_size = 128,\n",
    "                 return_embedding = True):\n",
    "        super(Classificator, self).__init__()\n",
    "        self.embedding_size = embedding_size\n",
    "        self.num_classes = num_classes\n",
    "        self.return_embedding = return_embedding\n",
    "\n",
    "        self.embedder = Embedder(embedding_size = embedding_size)\n",
    "        self.classifier = SphereEmbedding(embedding_size, num_classes)\n",
    "\n",
    "    def forward(self, batch):\n",
    "        embedding = self.embedder(batch)\n",
    "        prediction = self.classifier(embedding)\n",
    "\n",
    "        if self.return_embedding:\n",
    "            return prediction, embedding\n",
    "        else:\n",
    "            return prediction"
   ]
  }
 ],
 "metadata": {
  "colab": {
   "authorship_tag": "ABX9TyMkoNw1BQNrXiFit8j87MzQ",
   "provenance": []
  },
  "kernelspec": {
   "display_name": "Python 3 (ipykernel)",
   "language": "python",
   "name": "python3"
  },
  "language_info": {
   "codemirror_mode": {
    "name": "ipython",
    "version": 3
   },
   "file_extension": ".py",
   "mimetype": "text/x-python",
   "name": "python",
   "nbconvert_exporter": "python",
   "pygments_lexer": "ipython3",
   "version": "3.10.4"
  }
 },
 "nbformat": 4,
 "nbformat_minor": 4
}
