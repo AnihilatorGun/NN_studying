{
 "cells": [
  {
   "cell_type": "code",
   "execution_count": 1,
   "id": "91a229da-9bd9-4096-a5ac-c240271533e1",
   "metadata": {},
   "outputs": [],
   "source": [
    "import random\n",
    "import torchvision\n",
    "import torch\n",
    "import matplotlib.pyplot as plt\n",
    "import numpy as np\n",
    "try:\n",
    "    import pytorch_lightning as pl\n",
    "except:\n",
    "    !pip install pytorch-lightning\n",
    "    import pytorch_lightning as pl"
   ]
  },
  {
   "cell_type": "code",
   "execution_count": null,
   "id": "0c98bdc5-7025-4e5d-8f53-0a238f109779",
   "metadata": {},
   "outputs": [],
   "source": [
    "class Embedder(torch.nn.Module):\n",
    "    def __init__(self, embedding_dim = 128):\n",
    "        super(Embedder, self).__init__()\n",
    "        "
   ]
  },
  {
   "cell_type": "code",
   "execution_count": null,
   "id": "ca3f9a46-354b-4ae8-8ce0-7037dfecc451",
   "metadata": {},
   "outputs": [],
   "source": [
    "class TripletLoss(torch.nn.Module):\n",
    "    def __init__(self, margin=1.0):\n",
    "        super(TripletLoss, self).__init__()\n",
    "        self.margin = margin\n",
    "        \n",
    "    def forward(self, batch):\n",
    "        anchor, positive, negative = batch[0][0], batch[1][0], batch[2][0]\n",
    "        dist_ap = torch.linalg.nor(anchor - positive, dim=1)\n",
    "        dist_an = torch.linalg.nor(anchor - negative, dim=1)\n",
    "        loss = torch.clamp(dist_ap - dist_an + self.margin, min=0)\n",
    "        loss = torch.mean(loss)\n",
    "        return loss"
   ]
  },
  {
   "cell_type": "code",
   "execution_count": null,
   "id": "d2efe7df-f759-4ffd-9af0-a2c45d8303a3",
   "metadata": {},
   "outputs": [],
   "source": [
    "class SphericalClassifier(torch.nn.Linear):\n",
    "    __margin_types = {'CosFace' : __CosFace, 'SphereFace' : __SphereFace, 'ArcFace' : __ArcFace}\n",
    "    \n",
    "    def __init__(self, in_features, out_features, scale = 64, margin=0.35, margin_type = 'CosFace'):\n",
    "        super(SphericalEmbedding, self).__init__(in_features, out_featuresm, bias=False)\n",
    "        self._scale = scale\n",
    "        self._margin = margin\n",
    "        self._margin_type = margin_type\n",
    "        \n",
    "        self._body = self.__make_margin_loss()\n",
    "        \n",
    "    def __make_margin_loss(self):\n",
    "        if not self._margin_type in cls.__margin_types:\n",
    "            raise ValueError('There is no such type - {}'.format(self._margin_type))\n",
    "        else:\n",
    "            return cls.__margin_types[self._margin_type]\n",
    "        \n",
    "    def __CosFace()\n",
    "        \n",
    "    def forward(self, batch):\n",
    "        return torch.nn.functional.linear(torch.nn.functional.normalize(batch), torch.nn.functional.normalize(self.weight))"
   ]
  },
  {
   "cell_type": "code",
   "execution_count": null,
   "id": "80bbc759-7e16-4dc1-abdd-a942f2fec0bb",
   "metadata": {},
   "outputs": [],
   "source": [
    "CRITERION = {'CE' : torch.nn.CrossEntropyLoss,\n",
    "            'TripletLoss' : TripletLoss}\n",
    "\n",
    "CLASSIFIERS = {'linear' : torch.nn.Linear,\n",
    "              'SphericalEmbedding' : SphericalEmbedding}"
   ]
  },
  {
   "cell_type": "code",
   "execution_count": null,
   "id": "94465889-0f00-48f1-8367-15c65161dffa",
   "metadata": {},
   "outputs": [],
   "source": [
    "config = {\n",
    "    'embedding_size' : 128,\n",
    "    'scheduler' : (),\n",
    "    'optimizer' : (),\n",
    "    'dataset_params' : {\n",
    "        'batch_size' : 256\n",
    "    },\n",
    "    'loss':'CE',\n",
    "    \n",
    "}"
   ]
  }
 ],
 "metadata": {
  "kernelspec": {
   "display_name": "Python 3 (ipykernel)",
   "language": "python",
   "name": "python3"
  },
  "language_info": {
   "codemirror_mode": {
    "name": "ipython",
    "version": 3
   },
   "file_extension": ".py",
   "mimetype": "text/x-python",
   "name": "python",
   "nbconvert_exporter": "python",
   "pygments_lexer": "ipython3",
   "version": "3.10.4"
  }
 },
 "nbformat": 4,
 "nbformat_minor": 5
}
